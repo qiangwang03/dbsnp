{
  "nbformat": 4,
  "nbformat_minor": 0,
  "metadata": {
    "colab": {
      "name": "get_rs_flank.ipynb",
      "provenance": []
    },
    "kernelspec": {
      "name": "python3",
      "display_name": "Python 3"
    },
    "language_info": {
      "name": "python"
    }
  },
  "cells": [
    {
      "cell_type": "markdown",
      "source": [
        "### Import required Python modules"
      ],
      "metadata": {
        "id": "Jxze83rR4eiq"
      }
    },
    {
      "cell_type": "code",
      "execution_count": 39,
      "metadata": {
        "id": "2awJRgNz1krO"
      },
      "outputs": [],
      "source": [
        "from urllib.request import urlopen\n",
        "import json\n",
        "import re\n",
        "import requests"
      ]
    },
    {
      "cell_type": "markdown",
      "source": [
        "### Defined a function named 'get_rs_flank' to retrieve flanks of given rs IDs."
      ],
      "metadata": {
        "id": "RniYuJ3_4dKn"
      }
    },
    {
      "cell_type": "code",
      "source": [
        "def get_rs_flank(rsList, len_of_flank=100):\n",
        "  for id in rsList:\n",
        "    rsid=str(id)\n",
        "    summary_url='https://eutils.ncbi.nlm.nih.gov/entrez/eutils/esummary.fcgi?db=snp&id='+rsid+'&retmode=json'\n",
        "    response = urlopen(summary_url)\n",
        "    data_json = json.loads(response.read())\n",
        "\n",
        "    chr_gi={'1': 568815597, '2': 568815596,'3': 568815595,'4': 568815594,'5': 568815593,'6': 568815592,'7': 568815591,'8': 568815590,\n",
        "  '9': 568815589,'10': 568815588,'11': 568815587,'12': 568815586,'13': 568815585,'14': 568815584,'15': 568815583,'16': 568815582,\n",
        "  '17': 568815581,'18': 568815580,'19': 568815579,'20': 568815578,'21': 568815577,'22': 568815576,'X': 568815575,'Y': 568815574, 'MT': 251831106}\n",
        "\n",
        "    snp_class=data_json['result'][rsid]['snp_class']\n",
        "    [chr, pos]=data_json['result'][rsid]['chrpos'].split(':')\n",
        "    docsum=data_json['result'][rsid]['docsum']\n",
        "    allele=re.findall('\\|SEQ=\\[(.*)\\]\\|',docsum)[0]\n",
        "\n",
        "    seq=str(chr_gi[chr])\n",
        "    seq_start=0\n",
        "    seq_stop=0\n",
        "\n",
        "    if snp_class=='snv': # true SNP\n",
        "      seq_start_5=int(pos)-len_of_flank\n",
        "      seq_stop_5=int(pos)-1\n",
        "      seq_start_3=int(pos)+1\n",
        "      seq_stop_3=int(pos)+len_of_flank\n",
        "    elif allele.split('/')[0]=='-':  #INSERTIONs\n",
        "      seq_start_5=int(pos)-len_of_flank+1\n",
        "      seq_stop_5=int(pos)\n",
        "      seq_start_3=int(pos)+1\n",
        "      seq_strop_3=int(pos)+len_of_flank\n",
        "    else: #DELETIONs or MNVs\n",
        "      seq_start_5=int(pos)-len_of_flank\n",
        "      seq_stop_5=int(pos)-1\n",
        "      seq_start_3=int(pos)+len(allele.split('/')[0])\n",
        "      seq_stop_3=int(pos)+len(allele.split('/')[0])+len_of_flank\n",
        "   \n",
        "    seq_url='https://eutils.ncbi.nlm.nih.gov/entrez/eutils/efetch.fcgi?db=nuccore&id='+seq+'&seq_start='+str(seq_start_5)+'&seq_stop='+str(seq_stop_5)+'&rettype=fasta'\n",
        "    response = requests.get(seq_url)\n",
        "    data = response.text\n",
        "    five_prime_flank=''.join(data.split('\\n')[1:]).strip()\n",
        "\n",
        "    seq_url='https://eutils.ncbi.nlm.nih.gov/entrez/eutils/efetch.fcgi?db=nuccore&id='+seq+'&seq_start='+str(seq_start_3)+'&seq_stop='+str(seq_stop_3)+'&rettype=fasta'\n",
        "    response = requests.get(seq_url)\n",
        "    data = response.text\n",
        "    three_prime_flank=''.join(data.split('\\n')[1:]).strip()\n",
        "    fasta_header='>rs'+rsid+'|'+snp_class+'|'+chr+':'+pos+'|'+allele\n",
        "\n",
        "    print(fasta_header)\n",
        "    print(five_prime_flank)\n",
        "    print('['+allele+']')\n",
        "    print(three_prime_flank)"
      ],
      "metadata": {
        "id": "fVxC14jp__6y"
      },
      "execution_count": 109,
      "outputs": []
    },
    {
      "cell_type": "markdown",
      "source": [
        "### An example of calling the function"
      ],
      "metadata": {
        "id": "MQgwkGDH5FGW"
      }
    },
    {
      "cell_type": "code",
      "source": [
        "get_rs_flank([328, 1639546602])"
      ],
      "metadata": {
        "colab": {
          "base_uri": "https://localhost:8080/"
        },
        "id": "X9kWw5AhocE8",
        "outputId": "2e3204ed-20ed-46bb-ace8-9f0789a726f4"
      },
      "execution_count": 114,
      "outputs": [
        {
          "output_type": "stream",
          "name": "stdout",
          "text": [
            ">rs328|snv|8:19962213|C/A/G\n",
            "AGGGTGATCTTCTGTTCTAGGGAGAAAGTGTCTCATTTGCAGAAAGGAAAGGCACCTGCGGTATTTGTGAAATGCCATGACAAGTCTCTGAATAAGAAGT\n",
            "[C/A/G]\n",
            "AGGCTGGTGAGCATTCTGGGCTAAAGCTGACTGGGCATCCTGAGCTTGCACCCTAAGGGAGGCAGCTTCATGCATTCCTCTTCACCCCATCACCAGCAGC\n",
            ">rs1639546602|delins|1:10130|TAACC/-\n",
            "CTAACCCTAACCCTAACCCTAACCCTAACCCTAACCCTAACCCTAACCCTAACCCTAACCCTAACCCTAACCCTAACCCAACCCTAACCCTAACCCTAAC\n",
            "[TAACC/-]\n",
            "CCCTAACCCTAACCCCTAACCCTAACCCTAACCCTAACCCTAACCTAACCCTAACCCTAACCCTAACCCTAACCCTAACCCTAACCCTAACCCTAACCCCT\n"
          ]
        }
      ]
    }
  ]
}